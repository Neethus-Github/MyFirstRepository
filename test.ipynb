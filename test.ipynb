{
 "cells": [
  {
   "cell_type": "markdown",
   "id": "25316322-3c10-4843-9501-ba688359dd04",
   "metadata": {},
   "source": [
    "# Welcome to Jupyter"
   ]
  },
  {
   "cell_type": "markdown",
   "id": "41ed5235-28a4-45f9-a7f5-a198761505cc",
   "metadata": {},
   "source": [
    "## This is a test file"
   ]
  },
  {
   "cell_type": "code",
   "execution_count": null,
   "id": "9e999525-7f5f-48ba-9969-b9b0130c205a",
   "metadata": {},
   "outputs": [],
   "source": [
    "print(\"This is the change\")"
   ]
  },
  {
   "cell_type": "code",
   "execution_count": null,
   "id": "490314f6",
   "metadata": {},
   "outputs": [],
   "source": []
  }
 ],
 "metadata": {
  "kernelspec": {
   "display_name": "Python 3 (ipykernel)",
   "language": "python",
   "name": "python3"
  },
  "language_info": {
   "codemirror_mode": {
    "name": "ipython",
    "version": 3
   },
   "file_extension": ".py",
   "mimetype": "text/x-python",
   "name": "python",
   "nbconvert_exporter": "python",
   "pygments_lexer": "ipython3",
   "version": "3.11.9"
  }
 },
 "nbformat": 4,
 "nbformat_minor": 5
}
